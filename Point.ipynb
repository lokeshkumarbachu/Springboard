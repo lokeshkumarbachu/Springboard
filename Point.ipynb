{
 "cells": [
  {
   "cell_type": "code",
   "execution_count": 10,
   "id": "eaf33652-eb6e-4dad-812b-952ec039d1ca",
   "metadata": {},
   "outputs": [
    {
     "name": "stdout",
     "output_type": "stream",
     "text": [
      "(-3.0, 2.0)\n",
      "3.605551275463989\n"
     ]
    }
   ],
   "source": [
    "import numpy as py\n",
    "\n",
    "class Point:\n",
    "    def __init__(self, x=0.0, y=0.0):\n",
    "        self.x = x\n",
    "        self.y = y\n",
    "    def distance_to_origin(self):\n",
    "        return py.sqrt(self.x ** 2 + self.y **2)\n",
    "    def reflect(self, axis):\n",
    "        if axis == \"x\":\n",
    "            self.y = -self.y\n",
    "        elif axis == \"y\":\n",
    "            self.x = -self.x\n",
    "        else: \n",
    "            print(\"error\")\n",
    "\n",
    "pt = Point(x=3.0, y=2.0)\n",
    "pt.reflect(\"y\")\n",
    "print((pt.x, pt.y))\n",
    "print(pt.distance_to_origin())\n",
    "    "
   ]
  }
 ],
 "metadata": {
  "kernelspec": {
   "display_name": "Python [conda env:base] *",
   "language": "python",
   "name": "conda-base-py"
  },
  "language_info": {
   "codemirror_mode": {
    "name": "ipython",
    "version": 3
   },
   "file_extension": ".py",
   "mimetype": "text/x-python",
   "name": "python",
   "nbconvert_exporter": "python",
   "pygments_lexer": "ipython3",
   "version": "3.13.5"
  }
 },
 "nbformat": 4,
 "nbformat_minor": 5
}
